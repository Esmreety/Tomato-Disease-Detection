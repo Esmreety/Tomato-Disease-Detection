{
  "nbformat": 4,
  "nbformat_minor": 0,
  "metadata": {
    "colab": {
      "name": "Tomato disease detection.ipynb",
      "provenance": [],
      "collapsed_sections": [],
      "mount_file_id": "1GbCBwiOIYRk0zf3MVrevep_kTuL4uEgq",
      "authorship_tag": "ABX9TyNBfH1It+ybksdlDTNDDBGB",
      "include_colab_link": true
    },
    "kernelspec": {
      "name": "python3",
      "display_name": "Python 3"
    },
    "language_info": {
      "name": "python"
    },
    "accelerator": "GPU"
  },
  "cells": [
    {
      "cell_type": "markdown",
      "metadata": {
        "id": "view-in-github",
        "colab_type": "text"
      },
      "source": [
        "<a href=\"https://colab.research.google.com/github/Esmreety/Tomato-Disease-Detection/blob/main/Tomato_disease_detection.ipynb\" target=\"_parent\"><img src=\"https://colab.research.google.com/assets/colab-badge.svg\" alt=\"Open In Colab\"/></a>"
      ]
    },
    {
      "cell_type": "code",
      "metadata": {
        "id": "0tZoCGk7jYqH"
      },
      "source": [
        "!unzip '/content/drive/MyDrive/Copy of segmented2.zip'"
      ],
      "execution_count": null,
      "outputs": []
    },
    {
      "cell_type": "code",
      "metadata": {
        "id": "cwGzOkmskNhd"
      },
      "source": [
        "import cv2 as cv\n",
        "import numpy as np\n",
        "import os\n",
        "import matplotlib.pyplot as plt\n",
        "from tqdm import tqdm\n",
        "import random\n",
        "import pickle\n",
        "from tensorflow.python.keras.preprocessing.image import ImageDataGenerator\n",
        "\n",
        "img_size=224"
      ],
      "execution_count": null,
      "outputs": []
    },
    {
      "cell_type": "code",
      "metadata": {
        "id": "7Re3qzz_kbL0"
      },
      "source": [
        "train_datagen = ImageDataGenerator(\n",
        "    rescale=1./255,\n",
        "    # shear_range=0.2,\n",
        "    # rotation_range=30,\n",
        "    data_format='channels_last',\n",
        "    # vertical_flip=True,\n",
        "    # brightness_range=[0.5, 1.5],\n",
        "    validation_split =0.2,\n",
        ")"
      ],
      "execution_count": null,
      "outputs": []
    },
    {
      "cell_type": "code",
      "metadata": {
        "colab": {
          "base_uri": "https://localhost:8080/"
        },
        "id": "0-y6NvFvkfox",
        "outputId": "829c976b-469c-4481-de93-8fd438dd1219"
      },
      "source": [
        "train_generator = train_datagen.flow_from_directory(\n",
        "'/content/segmented2/train',\n",
        "target_size=(img_size,img_size),\n",
        "batch_size=16,\n",
        "color_mode = 'rgb',\n",
        "shuffle = True,\n",
        "seed = 42,\n",
        "class_mode='categorical',\n",
        "subset = 'training'\n",
        ")\n",
        "\n",
        "\n",
        "valid_generator = train_datagen.flow_from_directory(\n",
        "directory=\"/content/segmented2/train\",\n",
        "target_size=(img_size, img_size),\n",
        "color_mode=\"rgb\",\n",
        "batch_size=16,\n",
        "class_mode=\"categorical\",\n",
        "shuffle=True,\n",
        "seed=42,\n",
        "subset ='validation'\n",
        "\n",
        ")"
      ],
      "execution_count": null,
      "outputs": [
        {
          "output_type": "stream",
          "name": "stdout",
          "text": [
            "Found 13285 images belonging to 10 classes.\n",
            "Found 3317 images belonging to 10 classes.\n"
          ]
        }
      ]
    },
    {
      "cell_type": "code",
      "metadata": {
        "colab": {
          "base_uri": "https://localhost:8080/"
        },
        "id": "nz5MRJ7mkoFE",
        "outputId": "af253785-bc4e-49d8-a0c7-4b0699ad7c60"
      },
      "source": [
        "test_datagen = ImageDataGenerator(\n",
        "    # horizontal_flip=True,\n",
        "    # zoom_range=[0.5, 1.25],\n",
        "    rescale=1./255, \n",
        "   \n",
        " )\n",
        "test_generator = test_datagen.flow_from_directory(\n",
        "    directory=\"/content/segmented2/test\",\n",
        "    target_size=(img_size, img_size),\n",
        "    color_mode=\"rgb\",\n",
        "    batch_size=1,\n",
        "    class_mode='binary',\n",
        "    shuffle=False,\n",
        "    seed=42\n",
        "    )"
      ],
      "execution_count": null,
      "outputs": [
        {
          "output_type": "stream",
          "name": "stdout",
          "text": [
            "Found 995 images belonging to 10 classes.\n"
          ]
        }
      ]
    },
    {
      "cell_type": "code",
      "metadata": {
        "colab": {
          "base_uri": "https://localhost:8080/"
        },
        "id": "TDVnTZkJkurx",
        "outputId": "08d9ffd8-081b-438b-99e3-38eabe9820a1"
      },
      "source": [
        "\n",
        "import tensorflow as tf\n",
        "from tensorflow.keras.models import Sequential,Model\n",
        "from tensorflow.keras.layers import Conv3D,Conv2D,MaxPooling2D,Input,Dense,Flatten,Dropout,Activation,BatchNormalization,GlobalAveragePooling2D\n",
        "from tensorflow.python.keras.layers import PReLU\n",
        "from tensorflow.python.keras import losses\n",
        "from tensorflow.keras.optimizers import Adam, Adagrad, RMSprop\n",
        "from tensorflow.python.keras.callbacks import EarlyStopping\n",
        "from tensorflow.python.keras import regularizers\n",
        "from tensorflow.keras.preprocessing.image import ImageDataGenerator\n",
        "import keras\n",
        "from tensorflow.keras.layers import LeakyReLU, PReLU\n",
        "import os\n",
        "from tensorflow.keras.applications.vgg16 import VGG16\n",
        "from tensorflow.python.keras.callbacks import TensorBoard\n",
        "from tensorflow.python.keras.applications.inception_v3 import InceptionV3\n",
        "from tensorflow.keras.applications.resnet50 import ResNet50\n",
        "\n",
        "\n",
        "\n",
        "\n",
        "\n",
        "\n",
        "base_model1=tf.keras.applications.MobileNetV2(\n",
        "    input_shape=(img_size, img_size, 3),\n",
        "    include_top=False,\n",
        "    weights=\"imagenet\",\n",
        "    classes=1000)\n"
      ],
      "execution_count": null,
      "outputs": [
        {
          "output_type": "stream",
          "name": "stdout",
          "text": [
            "Downloading data from https://storage.googleapis.com/tensorflow/keras-applications/mobilenet_v2/mobilenet_v2_weights_tf_dim_ordering_tf_kernels_1.0_224_no_top.h5\n",
            "9412608/9406464 [==============================] - 0s 0us/step\n",
            "9420800/9406464 [==============================] - 0s 0us/step\n"
          ]
        }
      ]
    },
    {
      "cell_type": "code",
      "metadata": {
        "id": "RiysrRfPlLGs"
      },
      "source": [
        "base_model1.trainable = False"
      ],
      "execution_count": null,
      "outputs": []
    },
    {
      "cell_type": "code",
      "metadata": {
        "id": "VcL5f5ZTlQMJ"
      },
      "source": [
        "\n",
        "def createmodel():\n",
        "  model = Sequential()\n",
        "  #input_shape=(img_size,img_size,3)\n",
        "  #model.build(input_shape)\n",
        "  model.add(base_model1) #loads above imported pretrained model\n",
        "  #     #  here we added new layers\n",
        "  model.add(GlobalAveragePooling2D())\n",
        "  model.add(Flatten())\n",
        "  model.add(Dense(512, activation='relu'))\n",
        "  #model.add(Dropout(0.05))\n",
        "  model.add(Dense(10, activation='softmax', name ='output'))\n",
        "  \n",
        "  opt = RMSprop(learning_rate=0.0001,decay=(1e-3)/1000)\n",
        "  #opt=Adam(learning_rate=0.0001)\n",
        "  model.compile(loss=\"categorical_crossentropy\", optimizer=opt, metrics=[\"accuracy\"])\n",
        "  #model.compile(loss='binary_crossentropy', optimizer='adam', metrics=[\"accuracy\"])\n",
        "  #model.summary()\n",
        "  return model"
      ],
      "execution_count": null,
      "outputs": []
    },
    {
      "cell_type": "code",
      "metadata": {
        "id": "9X5XtGTYlV5P"
      },
      "source": [
        "\n",
        "model=createmodel()"
      ],
      "execution_count": null,
      "outputs": []
    },
    {
      "cell_type": "code",
      "metadata": {
        "colab": {
          "base_uri": "https://localhost:8080/"
        },
        "id": "WQMUlI3YlX6w",
        "outputId": "a5a9d61d-4673-4370-ed5c-19d7a15de5ec"
      },
      "source": [
        "history=model.fit_generator(\n",
        "        train_generator,\n",
        "        epochs=20,\n",
        "        validation_data=valid_generator,\n",
        "        validation_steps=20\n",
        "        )"
      ],
      "execution_count": null,
      "outputs": [
        {
          "output_type": "stream",
          "name": "stderr",
          "text": [
            "/usr/local/lib/python3.7/dist-packages/ipykernel_launcher.py:5: UserWarning: `Model.fit_generator` is deprecated and will be removed in a future version. Please use `Model.fit`, which supports generators.\n",
            "  \"\"\"\n"
          ]
        },
        {
          "output_type": "stream",
          "name": "stdout",
          "text": [
            "Epoch 1/20\n",
            "831/831 [==============================] - 62s 60ms/step - loss: 0.8255 - accuracy: 0.7313 - val_loss: 0.4377 - val_accuracy: 0.8656\n",
            "Epoch 2/20\n",
            "831/831 [==============================] - 49s 59ms/step - loss: 0.4445 - accuracy: 0.8540 - val_loss: 0.4336 - val_accuracy: 0.8344\n",
            "Epoch 3/20\n",
            "831/831 [==============================] - 49s 59ms/step - loss: 0.3536 - accuracy: 0.8826 - val_loss: 0.3996 - val_accuracy: 0.8594\n",
            "Epoch 4/20\n",
            "831/831 [==============================] - 48s 58ms/step - loss: 0.2966 - accuracy: 0.9034 - val_loss: 0.4186 - val_accuracy: 0.8781\n",
            "Epoch 5/20\n",
            "831/831 [==============================] - 48s 58ms/step - loss: 0.2572 - accuracy: 0.9166 - val_loss: 0.2838 - val_accuracy: 0.9094\n",
            "Epoch 6/20\n",
            "831/831 [==============================] - 48s 57ms/step - loss: 0.2243 - accuracy: 0.9265 - val_loss: 0.3141 - val_accuracy: 0.8813\n",
            "Epoch 7/20\n",
            "831/831 [==============================] - 48s 57ms/step - loss: 0.1988 - accuracy: 0.9390 - val_loss: 0.2713 - val_accuracy: 0.9125\n",
            "Epoch 8/20\n",
            "831/831 [==============================] - 48s 57ms/step - loss: 0.1754 - accuracy: 0.9451 - val_loss: 0.3068 - val_accuracy: 0.9125\n",
            "Epoch 9/20\n",
            "831/831 [==============================] - 48s 57ms/step - loss: 0.1552 - accuracy: 0.9529 - val_loss: 0.2815 - val_accuracy: 0.8906\n",
            "Epoch 10/20\n",
            "831/831 [==============================] - 48s 58ms/step - loss: 0.1388 - accuracy: 0.9569 - val_loss: 0.2999 - val_accuracy: 0.8813\n",
            "Epoch 11/20\n",
            "831/831 [==============================] - 50s 60ms/step - loss: 0.1235 - accuracy: 0.9633 - val_loss: 0.2272 - val_accuracy: 0.9250\n",
            "Epoch 12/20\n",
            "831/831 [==============================] - 49s 59ms/step - loss: 0.1090 - accuracy: 0.9688 - val_loss: 0.2273 - val_accuracy: 0.9125\n",
            "Epoch 13/20\n",
            "831/831 [==============================] - 48s 58ms/step - loss: 0.0973 - accuracy: 0.9734 - val_loss: 0.2931 - val_accuracy: 0.9094\n",
            "Epoch 14/20\n",
            "831/831 [==============================] - 48s 58ms/step - loss: 0.0847 - accuracy: 0.9779 - val_loss: 0.1839 - val_accuracy: 0.9406\n",
            "Epoch 15/20\n",
            "831/831 [==============================] - 48s 57ms/step - loss: 0.0752 - accuracy: 0.9816 - val_loss: 0.2583 - val_accuracy: 0.9031\n",
            "Epoch 16/20\n",
            "831/831 [==============================] - 48s 57ms/step - loss: 0.0661 - accuracy: 0.9837 - val_loss: 0.2655 - val_accuracy: 0.9187\n",
            "Epoch 17/20\n",
            "831/831 [==============================] - 48s 57ms/step - loss: 0.0585 - accuracy: 0.9852 - val_loss: 0.2428 - val_accuracy: 0.9187\n",
            "Epoch 18/20\n",
            "831/831 [==============================] - 49s 59ms/step - loss: 0.0507 - accuracy: 0.9886 - val_loss: 0.4044 - val_accuracy: 0.9094\n",
            "Epoch 19/20\n",
            "831/831 [==============================] - 47s 57ms/step - loss: 0.0432 - accuracy: 0.9910 - val_loss: 0.2884 - val_accuracy: 0.9125\n",
            "Epoch 20/20\n",
            "831/831 [==============================] - 47s 57ms/step - loss: 0.0381 - accuracy: 0.9927 - val_loss: 0.4175 - val_accuracy: 0.8906\n"
          ]
        }
      ]
    },
    {
      "cell_type": "code",
      "metadata": {
        "colab": {
          "base_uri": "https://localhost:8080/"
        },
        "id": "QFpHeXCplajo",
        "outputId": "3d202d5b-4e08-4e56-fe23-1e0e1770d900"
      },
      "source": [
        "model.save(\"MobilenetV2.hdf5\")"
      ],
      "execution_count": null,
      "outputs": [
        {
          "output_type": "stream",
          "name": "stderr",
          "text": [
            "/usr/local/lib/python3.7/dist-packages/keras/engine/functional.py:1410: CustomMaskWarning: Custom mask layers require a config and must override get_config. When loading, the custom mask layer must be passed to the custom_objects argument.\n",
            "  layer_config = serialize_layer_fn(layer)\n"
          ]
        }
      ]
    },
    {
      "cell_type": "code",
      "metadata": {
        "colab": {
          "base_uri": "https://localhost:8080/"
        },
        "id": "HXbro75jnMCV",
        "outputId": "f582d594-efa8-4de8-94d8-619060675b19"
      },
      "source": [
        "import tensorflow as tf\n",
        "\n",
        "model = tf.keras.models.load_model('/content/MobilenetV2.hdf5')\n",
        "\n",
        "prediction=model.predict(test_generator,verbose=1)\n",
        "print(prediction)"
      ],
      "execution_count": null,
      "outputs": [
        {
          "output_type": "stream",
          "name": "stdout",
          "text": [
            "995/995 [==============================] - 14s 13ms/step\n",
            "[[9.9996984e-01 6.3951784e-06 2.6718050e-07 ... 4.9463370e-06\n",
            "  1.1513478e-17 1.4961699e-08]\n",
            " [9.9998522e-01 7.4903408e-09 1.0931642e-06 ... 1.2467579e-05\n",
            "  7.7434755e-19 1.1045394e-06]\n",
            " [9.9999797e-01 1.8816919e-06 2.1932747e-09 ... 1.4597573e-09\n",
            "  1.9932617e-21 4.6797654e-17]\n",
            " ...\n",
            " [1.7610455e-07 4.0465860e-08 9.4331050e-08 ... 5.7282068e-07\n",
            "  1.0048020e-11 9.9999905e-01]\n",
            " [2.4871118e-13 6.3097948e-05 1.6345342e-07 ... 2.0382771e-07\n",
            "  2.1051573e-04 9.9960130e-01]\n",
            " [1.3075722e-14 3.4075731e-07 1.1679121e-09 ... 1.0291809e-11\n",
            "  4.9294146e-16 9.9981147e-01]]\n"
          ]
        }
      ]
    },
    {
      "cell_type": "code",
      "metadata": {
        "colab": {
          "base_uri": "https://localhost:8080/"
        },
        "id": "u_AbuDX9nWEO",
        "outputId": "824f62bb-081c-4d90-c60b-5ab22c315e88"
      },
      "source": [
        "yp=np.argmax(prediction,axis=1)\n",
        "print(yp)"
      ],
      "execution_count": null,
      "outputs": [
        {
          "output_type": "stream",
          "name": "stdout",
          "text": [
            "[0 0 0 0 1 0 0 0 0 0 0 0 0 0 0 0 0 0 0 1 0 0 0 0 0 0 2 0 0 0 0 0 0 0 0 0 0\n",
            " 0 0 0 0 0 0 1 0 7 0 0 0 0 0 0 0 0 0 0 0 0 0 0 0 0 0 0 6 0 0 6 0 0 0 0 1 0\n",
            " 0 0 0 0 0 0 0 0 0 1 0 0 0 0 0 0 0 0 0 0 0 0 0 0 0 0 1 1 1 1 1 1 1 1 1 1 1\n",
            " 1 1 1 1 1 1 1 1 1 1 1 1 1 1 1 1 1 1 1 1 1 1 1 1 1 1 1 1 0 1 1 1 1 1 1 1 1\n",
            " 1 1 1 1 1 1 1 1 1 1 1 1 1 1 1 1 1 4 1 1 1 1 1 1 1 1 1 1 1 1 1 4 1 1 1 1 1\n",
            " 1 1 1 1 1 1 1 1 1 1 1 1 1 1 5 2 2 2 2 2 2 2 2 2 2 2 2 2 2 2 3 2 3 2 1 2 1\n",
            " 1 2 2 2 2 2 2 1 2 2 2 2 2 2 2 2 7 2 2 4 2 2 2 2 2 2 2 2 6 2 2 2 1 1 2 2 2\n",
            " 2 1 2 2 4 2 2 2 3 2 2 2 2 2 2 2 1 2 2 2 2 2 2 8 2 2 2 2 2 2 2 2 2 2 3 7 3\n",
            " 3 3 3 3 9 3 3 3 3 3 3 3 3 3 4 3 3 3 3 3 3 3 3 3 3 4 3 3 3 3 2 3 3 3 3 4 3\n",
            " 3 2 3 3 3 1 3 3 3 3 3 3 3 3 4 3 3 3 1 3 3 3 3 3 3 3 3 3 4 3 3 3 3 3 3 4 3\n",
            " 3 3 3 3 3 3 3 3 3 3 3 3 3 3 3 3 3 3 3 3 3 3 5 3 3 4 4 4 4 1 4 4 4 4 1 1 1\n",
            " 1 4 1 4 4 4 4 4 4 4 4 4 4 4 4 4 4 4 4 4 4 4 4 4 4 4 4 4 4 4 0 4 4 4 4 4 4\n",
            " 4 4 4 4 4 4 2 4 4 4 4 4 4 4 4 4 4 4 4 4 4 4 1 4 4 4 4 4 4 4 4 3 4 4 4 4 4\n",
            " 4 4 1 4 4 4 4 4 4 4 4 4 4 4 5 5 5 5 1 5 5 5 6 5 5 5 5 5 5 5 5 5 5 5 5 5 5\n",
            " 5 5 5 5 5 5 9 8 5 5 5 5 5 5 5 5 5 5 5 5 5 5 5 5 5 5 5 5 5 5 5 5 5 5 5 5 5\n",
            " 5 1 5 5 5 1 5 5 5 5 5 5 5 5 5 5 5 5 5 5 5 5 5 5 5 5 5 6 5 5 5 5 1 5 5 5 6\n",
            " 6 5 5 6 6 6 6 6 6 9 6 6 6 6 6 9 6 6 5 6 6 6 6 6 6 6 6 4 6 6 6 6 6 6 6 6 6\n",
            " 6 2 5 6 6 6 6 5 6 6 6 6 5 6 6 6 6 6 1 6 1 6 6 6 6 6 6 6 6 6 6 6 6 6 6 6 6\n",
            " 6 6 6 6 6 6 6 4 6 0 6 9 6 6 6 6 6 5 6 9 6 6 6 6 6 6 6 6 6 7 7 7 8 7 7 7 7\n",
            " 7 7 7 7 7 7 7 7 7 7 7 7 7 7 7 7 7 7 7 7 7 7 7 7 7 7 7 7 7 7 7 7 7 7 7 7 7\n",
            " 7 7 7 7 7 7 7 7 5 7 7 7 1 7 7 7 7 7 7 7 7 7 7 7 7 7 7 7 7 7 7 7 7 7 7 7 7\n",
            " 7 7 7 7 7 7 7 7 7 7 7 7 7 7 7 7 7 7 8 8 8 8 8 8 8 8 8 8 8 8 8 8 8 8 8 8 8\n",
            " 8 8 8 8 8 8 8 8 8 8 8 8 8 8 8 8 8 8 8 8 8 8 8 8 8 8 8 8 8 8 8 8 8 8 8 8 8\n",
            " 8 8 8 8 8 8 8 8 8 8 8 8 8 8 8 8 8 8 4 8 8 8 8 8 8 8 8 8 8 8 8 8 8 8 8 8 8\n",
            " 8 8 8 8 8 8 8 9 9 9 9 9 9 9 9 9 9 9 9 9 9 9 9 9 9 9 9 9 9 9 9 9 9 9 9 9 9\n",
            " 9 9 9 9 9 9 9 9 1 9 9 9 9 9 9 9 9 9 9 9 9 9 9 9 9 9 9 9 9 9 9 9 6 9 9 9 9\n",
            " 9 9 9 9 9 9 9 9 9 9 9 9 9 9 9 9 9 9 9 9 9 9 9 9 9 9 9 9 9 9 9 9 9]\n"
          ]
        }
      ]
    },
    {
      "cell_type": "code",
      "metadata": {
        "colab": {
          "base_uri": "https://localhost:8080/"
        },
        "id": "mL2ZP0iXndtu",
        "outputId": "78d577e6-0765-46f1-85f0-b61d37f46db6"
      },
      "source": [
        "from sklearn.metrics import classification_report, confusion_matrix\n",
        "print('Classification Report')\n",
        "\n",
        "target_names = ['Tomato___Bacterial_spot','Tomato___Early_blight','Tomato___Late_blight','Tomato___Leaf_Mold','Tomato___Septoria_leaf_spot','Tomato___Spider_mites Two-spotted_spider_mite','Tomato___Target_Spot','Tomato___Tomato_Yellow_Leaf_Curl_Virus','Tomato___Tomato_mosaic_virus','Tomato___healthy']\n",
        "print(classification_report(test_generator.classes, yp, target_names=target_names))"
      ],
      "execution_count": null,
      "outputs": [
        {
          "output_type": "stream",
          "name": "stdout",
          "text": [
            "Classification Report\n",
            "                                               precision    recall  f1-score   support\n",
            "\n",
            "                      Tomato___Bacterial_spot       0.97      0.91      0.94       100\n",
            "                        Tomato___Early_blight       0.76      0.96      0.85       100\n",
            "                         Tomato___Late_blight       0.94      0.81      0.87        95\n",
            "                           Tomato___Leaf_Mold       0.95      0.88      0.91       100\n",
            "                  Tomato___Septoria_leaf_spot       0.87      0.89      0.88       100\n",
            "Tomato___Spider_mites Two-spotted_spider_mite       0.92      0.90      0.91       100\n",
            "                         Tomato___Target_Spot       0.91      0.85      0.88       100\n",
            "       Tomato___Tomato_Yellow_Leaf_Curl_Virus       0.97      0.97      0.97       100\n",
            "                 Tomato___Tomato_mosaic_virus       0.97      0.99      0.98       100\n",
            "                             Tomato___healthy       0.94      0.98      0.96       100\n",
            "\n",
            "                                     accuracy                           0.91       995\n",
            "                                    macro avg       0.92      0.91      0.91       995\n",
            "                                 weighted avg       0.92      0.91      0.92       995\n",
            "\n"
          ]
        }
      ]
    },
    {
      "cell_type": "code",
      "metadata": {
        "colab": {
          "base_uri": "https://localhost:8080/",
          "height": 513
        },
        "id": "177SWqI6nhfH",
        "outputId": "8d651d88-bd5e-4e1b-d24d-5c195c814367"
      },
      "source": [
        "acc = history.history['accuracy']\n",
        "val_acc = history.history['val_accuracy']\n",
        "\n",
        "loss = history.history['loss']\n",
        "val_loss = history.history['val_loss']\n",
        "\n",
        "plt.figure(figsize=(8, 8))\n",
        "plt.subplot(2, 1, 1)\n",
        "plt.plot(acc, label='Training Accuracy')\n",
        "plt.plot(val_acc, label='Validation Accuracy')\n",
        "plt.legend(loc='lower right')\n",
        "plt.ylabel('Accuracy')\n",
        "plt.ylim([min(plt.ylim()),1])\n",
        "plt.title('Training and Validation Accuracy')\n",
        "\n",
        "plt.subplot(2, 1, 2)\n",
        "plt.plot(loss, label='Training Loss')\n",
        "plt.plot(val_loss, label='Validation Loss')\n",
        "plt.legend(loc='upper right')\n",
        "plt.ylabel('Cross Entropy')\n",
        "plt.ylim([0,1.0])\n",
        "plt.title('Training and Validation Loss')\n",
        "plt.xlabel('epoch')\n",
        "plt.show()"
      ],
      "execution_count": null,
      "outputs": [
        {
          "output_type": "display_data",
          "data": {
            "image/png": "[encoded data removed]",
            "text/plain": [
              "<Figure size 576x576 with 2 Axes>"
            ]
          },
          "metadata": {
            "needs_background": "light"
          }
        }
      ]
    },
    {
      "cell_type": "code",
      "metadata": {
        "colab": {
          "base_uri": "https://localhost:8080/"
        },
        "id": "K-XN-5lEusGM",
        "outputId": "b1ec873c-6933-45ed-ecf8-a024b96cc835"
      },
      "source": [
        "\n",
        "print(\"Total number of layers in the model is \", len(base_model1.layers))"
      ],
      "execution_count": null,
      "outputs": [
        {
          "output_type": "stream",
          "name": "stdout",
          "text": [
            "Total number of layers in the model is  154\n"
          ]
        }
      ]
    },
    {
      "cell_type": "code",
      "metadata": {
        "id": "_CJQqlqFClQp"
      },
      "source": [
        "# Unfreeze some of the top(output-ish) layers of the base model\n",
        "# For this, first unfreeze the whole model\n",
        "base_model1.trainable = True\n",
        "\n",
        "# Let's fine tune after the 100th layer onwards\n",
        "fine_tune_at = 100\n",
        "\n",
        "# Now freeze all layers near the input till 100\n",
        "for layer in base_model1.layers[:fine_tune_at]:\n",
        "    layer.trainable = False\n",
        "\n",
        "# Now out of the 150 layers, the the last(output-ish) 55 layers can be fine tuned"
      ],
      "execution_count": null,
      "outputs": []
    },
    {
      "cell_type": "code",
      "metadata": {
        "id": "XcCvQPTDCpHQ"
      },
      "source": [
        "model.compile(optimizer=tf.keras.optimizers.RMSprop(learning_rate=0.00001),\n",
        "              loss='categorical_crossentropy',\n",
        "              metrics=['accuracy'])\n"
      ],
      "execution_count": null,
      "outputs": []
    },
    {
      "cell_type": "code",
      "metadata": {
        "colab": {
          "base_uri": "https://localhost:8080/"
        },
        "id": "c7UOLZuZC0eh",
        "outputId": "65e6c89c-4302-4742-e21f-045565ef12c8"
      },
      "source": [
        "\n",
        "model.fit_generator(generator=train_generator, \n",
        "                    epochs=5, \n",
        "                    validation_data=valid_generator)"
      ],
      "execution_count": null,
      "outputs": [
        {
          "output_type": "stream",
          "name": "stderr",
          "text": [
            "/usr/local/lib/python3.7/dist-packages/ipykernel_launcher.py:4: UserWarning: `Model.fit_generator` is deprecated and will be removed in a future version. Please use `Model.fit`, which supports generators.\n",
            "  after removing the cwd from sys.path.\n"
          ]
        },
        {
          "output_type": "stream",
          "name": "stdout",
          "text": [
            "Epoch 1/5\n",
            "831/831 [==============================] - 61s 70ms/step - loss: 0.0224 - accuracy: 0.9980 - val_loss: 0.2464 - val_accuracy: 0.9210\n",
            "Epoch 2/5\n",
            "831/831 [==============================] - 57s 68ms/step - loss: 0.0208 - accuracy: 0.9980 - val_loss: 0.2444 - val_accuracy: 0.9237\n",
            "Epoch 3/5\n",
            "831/831 [==============================] - 56s 67ms/step - loss: 0.0199 - accuracy: 0.9980 - val_loss: 0.2485 - val_accuracy: 0.9207\n",
            "Epoch 4/5\n",
            "831/831 [==============================] - 56s 67ms/step - loss: 0.0195 - accuracy: 0.9983 - val_loss: 0.2452 - val_accuracy: 0.9228\n",
            "Epoch 5/5\n",
            "831/831 [==============================] - 56s 67ms/step - loss: 0.0192 - accuracy: 0.9980 - val_loss: 0.2441 - val_accuracy: 0.9246\n"
          ]
        },
        {
          "output_type": "execute_result",
          "data": {
            "text/plain": [
              "<keras.callbacks.History at 0x7fe033e989d0>"
            ]
          },
          "metadata": {},
          "execution_count": 41
        }
      ]
    },
    {
      "cell_type": "code",
      "metadata": {
        "colab": {
          "base_uri": "https://localhost:8080/"
        },
        "id": "2mNF_A26C3Ql",
        "outputId": "775ba328-7aad-4989-8cf8-66955cb4bd57"
      },
      "source": [
        "model.save(\"MobilenetV2a.hdf5\") #fine tuned model"
      ],
      "execution_count": null,
      "outputs": [
        {
          "output_type": "stream",
          "name": "stderr",
          "text": [
            "/usr/local/lib/python3.7/dist-packages/keras/engine/functional.py:1410: CustomMaskWarning: Custom mask layers require a config and must override get_config. When loading, the custom mask layer must be passed to the custom_objects argument.\n",
            "  layer_config = serialize_layer_fn(layer)\n"
          ]
        }
      ]
    },
    {
      "cell_type": "code",
      "metadata": {
        "colab": {
          "base_uri": "https://localhost:8080/"
        },
        "id": "rpIWjGjGEFeD",
        "outputId": "9bb7c79e-5dd1-4aa0-d5da-35b8ae336ae6"
      },
      "source": [
        "import tensorflow as tf\n",
        "\n",
        "model = tf.keras.models.load_model('/content/MobilenetV2a.hdf5')\n",
        "\n",
        "prediction=model.predict(test_generator,verbose=1)\n",
        "print(prediction)"
      ],
      "execution_count": null,
      "outputs": [
        {
          "output_type": "stream",
          "name": "stdout",
          "text": [
            "995/995 [==============================] - 14s 13ms/step\n",
            "[[9.99975085e-01 9.86683403e-07 1.17270929e-06 ... 2.50732592e-06\n",
            "  2.06148608e-18 4.64082550e-09]\n",
            " [9.99984622e-01 7.58212548e-10 5.02070270e-06 ... 9.61550450e-06\n",
            "  1.71276095e-19 6.15684883e-07]\n",
            " [9.99999642e-01 1.57730085e-07 4.00387723e-09 ... 5.75544890e-10\n",
            "  2.47749833e-22 9.02782687e-18]\n",
            " ...\n",
            " [1.11335638e-07 7.09551795e-09 2.81729029e-07 ... 5.02384808e-07\n",
            "  6.29272502e-12 9.99999046e-01]\n",
            " [1.70503436e-13 9.18169826e-06 3.05436117e-07 ... 2.49314411e-07\n",
            "  1.55409842e-04 9.99694586e-01]\n",
            " [1.16442483e-14 1.33371614e-07 4.33474945e-09 ... 1.42914725e-11\n",
            "  2.57180379e-16 9.99882936e-01]]\n"
          ]
        }
      ]
    },
    {
      "cell_type": "code",
      "metadata": {
        "id": "9Z7V1eg_EH_W"
      },
      "source": [
        "yp=np.argmax(prediction,axis=1)"
      ],
      "execution_count": null,
      "outputs": []
    },
    {
      "cell_type": "code",
      "metadata": {
        "colab": {
          "base_uri": "https://localhost:8080/"
        },
        "id": "-dvKEjZgEOms",
        "outputId": "e4dcac62-07ec-498c-f672-296abca7097b"
      },
      "source": [
        "from sklearn.metrics import classification_report, confusion_matrix\n",
        "print('Classification Report')\n",
        "\n",
        "target_names = ['Tomato___Bacterial_spot','Tomato___Early_blight','Tomato___Late_blight','Tomato___Leaf_Mold','Tomato___Septoria_leaf_spot','Tomato___Spider_mites Two-spotted_spider_mite','Tomato___Target_Spot','Tomato___Tomato_Yellow_Leaf_Curl_Virus','Tomato___Tomato_mosaic_virus','Tomato___healthy']\n",
        "print(classification_report(test_generator.classes, yp, target_names=target_names))"
      ],
      "execution_count": null,
      "outputs": [
        {
          "output_type": "stream",
          "name": "stdout",
          "text": [
            "Classification Report\n",
            "                                               precision    recall  f1-score   support\n",
            "\n",
            "                      Tomato___Bacterial_spot       0.95      0.94      0.94       100\n",
            "                        Tomato___Early_blight       0.84      0.89      0.86       100\n",
            "                         Tomato___Late_blight       0.85      0.85      0.85        95\n",
            "                           Tomato___Leaf_Mold       0.95      0.89      0.92       100\n",
            "                  Tomato___Septoria_leaf_spot       0.87      0.90      0.88       100\n",
            "Tomato___Spider_mites Two-spotted_spider_mite       0.94      0.91      0.92       100\n",
            "                         Tomato___Target_Spot       0.89      0.89      0.89       100\n",
            "       Tomato___Tomato_Yellow_Leaf_Curl_Virus       0.98      0.96      0.97       100\n",
            "                 Tomato___Tomato_mosaic_virus       0.97      0.98      0.98       100\n",
            "                             Tomato___healthy       0.96      0.97      0.97       100\n",
            "\n",
            "                                     accuracy                           0.92       995\n",
            "                                    macro avg       0.92      0.92      0.92       995\n",
            "                                 weighted avg       0.92      0.92      0.92       995\n",
            "\n"
          ]
        }
      ]
    },
    {
      "cell_type": "code",
      "metadata": {
        "id": "CM6TGSqJERIW"
      },
      "source": [
        ""
      ],
      "execution_count": null,
      "outputs": []
    }
  ]
}